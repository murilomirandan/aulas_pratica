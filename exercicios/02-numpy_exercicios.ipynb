{
 "cells": [
  {
   "cell_type": "markdown",
   "metadata": {},
   "source": [
    "# Exercícios de NumPy\n",
    "\n",
    " Agora que já estudamos o **NumPy**, é hora de praticar!\n",
    "\n",
    " Começaremos com tarefas simples e, em seguida, avançaremos para questões mais desafiadoras."
   ]
  },
  {
   "cell_type": "markdown",
   "metadata": {},
   "source": [
    "#### Importe o NumPy como np"
   ]
  },
  {
   "cell_type": "code",
   "execution_count": null,
   "metadata": {},
   "outputs": [],
   "source": []
  },
  {
   "cell_type": "markdown",
   "metadata": {},
   "source": [
    "#### Crie um array de 10 zeros"
   ]
  },
  {
   "cell_type": "code",
   "execution_count": null,
   "metadata": {},
   "outputs": [],
   "source": [
    "\n"
   ]
  },
  {
   "cell_type": "markdown",
   "metadata": {},
   "source": [
    "#### Crie um array de 10 uns"
   ]
  },
  {
   "cell_type": "code",
   "execution_count": null,
   "metadata": {},
   "outputs": [],
   "source": [
    "\n"
   ]
  },
  {
   "cell_type": "markdown",
   "metadata": {},
   "source": [
    "#### Crie um array de 10 cincos"
   ]
  },
  {
   "cell_type": "code",
   "execution_count": null,
   "metadata": {},
   "outputs": [],
   "source": [
    "\n"
   ]
  },
  {
   "cell_type": "markdown",
   "metadata": {},
   "source": [
    "#### Crie um array com os inteiros de 10 até 50"
   ]
  },
  {
   "cell_type": "code",
   "execution_count": null,
   "metadata": {},
   "outputs": [],
   "source": [
    "\n"
   ]
  },
  {
   "cell_type": "markdown",
   "metadata": {},
   "source": [
    "#### Crie um array com todos os inteiros pares de 10 até 50"
   ]
  },
  {
   "cell_type": "code",
   "execution_count": null,
   "metadata": {},
   "outputs": [],
   "source": [
    "\n"
   ]
  },
  {
   "cell_type": "markdown",
   "metadata": {},
   "source": [
    "#### Crie uma matriz 3x3 com valores de 0 até 8"
   ]
  },
  {
   "cell_type": "code",
   "execution_count": null,
   "metadata": {},
   "outputs": [],
   "source": [
    "\n"
   ]
  },
  {
   "cell_type": "markdown",
   "metadata": {},
   "source": [
    "#### Crie uma matriz identidade 3x3"
   ]
  },
  {
   "cell_type": "code",
   "execution_count": null,
   "metadata": {},
   "outputs": [],
   "source": [
    "\n"
   ]
  },
  {
   "cell_type": "markdown",
   "metadata": {},
   "source": [
    "#### Gere um número aleatório entre 0 e 1 usando NumPy"
   ]
  },
  {
   "cell_type": "code",
   "execution_count": null,
   "metadata": {},
   "outputs": [],
   "source": [
    "\n"
   ]
  },
  {
   "cell_type": "markdown",
   "metadata": {},
   "source": [
    "#### Gere um array com 25 números aleatórios de uma distribuição normal padrão"
   ]
  },
  {
   "cell_type": "code",
   "execution_count": null,
   "metadata": {},
   "outputs": [],
   "source": [
    "\n"
   ]
  },
  {
   "cell_type": "markdown",
   "metadata": {},
   "source": [
    "#### Crie a seguinte matriz:\n",
    "```\n",
    "[[ 0,  1,  2,  3,  4],\n",
    "\n",
    " [ 5,  6,  7,  8,  9],\n",
    "\n",
    " [10, 11, 12, 13, 14],\n",
    "\n",
    " [15, 16, 17, 18, 19],\n",
    "\n",
    " [20, 21, 22, 23, 24]]\n",
    "\n",
    "```"
   ]
  },
  {
   "cell_type": "code",
   "execution_count": null,
   "metadata": {},
   "outputs": [],
   "source": [
    "\n"
   ]
  },
  {
   "cell_type": "markdown",
   "metadata": {},
   "source": [
    "#### Crie um array de 20 pontos igualmente espaçados entre 0 e 1"
   ]
  },
  {
   "cell_type": "code",
   "execution_count": null,
   "metadata": {},
   "outputs": [],
   "source": [
    "\n"
   ]
  },
  {
   "cell_type": "markdown",
   "metadata": {},
   "source": [
    "## Indexação e Seleção em NumPy\n",
    "\n",
    "Agora, você receberá algumas matrizes e deverá **replicar as saídas esperadas**."
   ]
  },
  {
   "cell_type": "code",
   "execution_count": null,
   "metadata": {},
   "outputs": [],
   "source": [
    "mat = np.arange(1,26).reshape(5,5)\n",
    "mat"
   ]
  },
  {
   "cell_type": "markdown",
   "metadata": {},
   "source": [
    "Escreva código que produza a seguinte saída:\n",
    "\n",
    "```\n",
    "[[12 13 14 15]\n",
    "\n",
    " [17 18 19 20]\n",
    "\n",
    " [22 23 24 25]]\n",
    "```"
   ]
  },
  {
   "cell_type": "code",
   "execution_count": null,
   "metadata": {},
   "outputs": [],
   "source": [
    "\n"
   ]
  },
  {
   "cell_type": "markdown",
   "metadata": {},
   "source": [
    "Escreva código que produza a seguinte saída:\n",
    "\n",
    "```\n",
    "20\n",
    "```"
   ]
  },
  {
   "cell_type": "code",
   "execution_count": null,
   "metadata": {},
   "outputs": [],
   "source": [
    "\n"
   ]
  },
  {
   "cell_type": "markdown",
   "metadata": {},
   "source": [
    "Escreva código que produza a seguinte saída:\n",
    "\n",
    "```\n",
    "[[ 2]\n",
    "\n",
    " [ 7]\n",
    "\n",
    " [12]]\n",
    "```"
   ]
  },
  {
   "cell_type": "code",
   "execution_count": null,
   "metadata": {},
   "outputs": [],
   "source": [
    "\n"
   ]
  },
  {
   "cell_type": "markdown",
   "metadata": {},
   "source": [
    "Escreva código que produza a seguinte saída:\n",
    "\n",
    "```\n",
    "[21 22 23 24 25]\n",
    "```"
   ]
  },
  {
   "cell_type": "code",
   "execution_count": null,
   "metadata": {},
   "outputs": [],
   "source": [
    "\n"
   ]
  },
  {
   "cell_type": "markdown",
   "metadata": {},
   "source": [
    "Escreva código que produza a seguinte saída:\n",
    "\n",
    "```\n",
    "[[16 17 18 19 20]\n",
    "\n",
    " [21 22 23 24 25]]\n",
    "```"
   ]
  },
  {
   "cell_type": "code",
   "execution_count": null,
   "metadata": {},
   "outputs": [],
   "source": [
    "\n"
   ]
  },
  {
   "cell_type": "markdown",
   "metadata": {},
   "source": [
    "### Agora faça o seguinte:"
   ]
  },
  {
   "cell_type": "markdown",
   "metadata": {},
   "source": [
    "#### Obtenha a soma de todos os valores de `mat`"
   ]
  },
  {
   "cell_type": "code",
   "execution_count": null,
   "metadata": {},
   "outputs": [],
   "source": [
    "\n"
   ]
  },
  {
   "cell_type": "markdown",
   "metadata": {},
   "source": [
    "#### Obtenha o desvio padrão dos valores de `mat`"
   ]
  },
  {
   "cell_type": "code",
   "execution_count": null,
   "metadata": {},
   "outputs": [],
   "source": [
    "\n"
   ]
  },
  {
   "cell_type": "markdown",
   "metadata": {},
   "source": [
    "#### Obtenha a soma de cada coluna de `mat`"
   ]
  },
  {
   "cell_type": "code",
   "execution_count": null,
   "metadata": {},
   "outputs": [],
   "source": [
    "\n"
   ]
  },
  {
   "cell_type": "markdown",
   "metadata": {},
   "source": [
    "## Exercícios extras (desafio)\n",
    "\n",
    "Para praticar ainda mais, tente resolver:\n",
    "1. Crie uma matriz 10x10 com valores de 0 a 99.\n",
    "2. Inverta a ordem dos elementos em um array (ex: `[1,2,3] → [3,2,1]`).\n",
    "3. Crie um array 5x5 com valores aleatórios entre 0 e 1 e encontre o valor **máximo e mínimo**.\n",
    "4. Gere uma matriz diagonal 4x4 com os valores `[10,20,30,40]`.\n",
    "5. Crie uma matriz 6x6 com números inteiros aleatórios entre 1 e 100 e calcule a média de cada linha.\n",
    "6. Gere uma matriz 5x5 com números da distribuição normal e conte quantos valores são **maiores que 1**.\n",
    "7. Crie um array de 100 valores espaçados logaritmicamente entre `10^1` e `10^3`.\n",
    "8. Multiplique duas matrizes 3x3 (produto matricial).\n",
    "9. Crie uma função que receba um array NumPy e retorne a quantidade de valores únicos.\n",
    "10. Desafie-se: Crie o tabuleiro de xadrez (8x8) usando apenas 0s e 1s."
   ]
  },
  {
   "cell_type": "markdown",
   "metadata": {},
   "source": [
    "### Situação-Problema 1: Monitoramento de Temperaturas em Biomas\n",
    "**Contexto:**\n",
    "\n",
    "Você é um pesquisador do IBAMA que está monitorando as temperaturas médias semanais em três biomas brasileiros: Amazônia, Cerrado e Caatinga. Os dados foram coletados ao longo de 4 semanas, organizados como uma matriz:"
   ]
  },
  {
   "cell_type": "code",
   "execution_count": null,
   "metadata": {},
   "outputs": [],
   "source": [
    "# Linhas: Semanas (1 a 4)\n",
    "# Colunas: Biomas [Amazônia, Cerrado, Caatinga]\n",
    "import numpy as np\n",
    "\n",
    "temperaturas = np.array([\n",
    "    [30.5, 25.2, 28.1],\n",
    "    [31.2, 26.0, 27.8],\n",
    "    [29.8, 24.5, 28.6],\n",
    "    [30.0, 25.7, 29.0]\n",
    "])"
   ]
  },
  {
   "cell_type": "markdown",
   "metadata": {},
   "source": [
    "**Desafios:**\n",
    "1. Calcule a temperatura média mensal de cada bioma.\n",
    "1. Descubra em qual semana cada bioma teve sua maior temperatura.\n",
    "1. Verifique em quais semanas a temperatura da Amazônia foi maior que 30°C.\n",
    "1. Calcule a variação de temperatura (máximo - mínimo) de cada bioma ao longo do mês."
   ]
  },
  {
   "cell_type": "code",
   "execution_count": null,
   "metadata": {},
   "outputs": [],
   "source": [
    "# Sua solução aqui"
   ]
  },
  {
   "cell_type": "markdown",
   "metadata": {},
   "source": [
    "### Situação-Problema 2: Qualidade da Água em Estações de Monitoramento\n",
    "\n",
    "**Contexto:**\n",
    "\n",
    "Você está analisando os níveis de **oxigênio dissolvido (OD)** em mg/L em 5 rios diferentes, monitorados em 3 estações ao longo do ano. Os dados de OD foram armazenados em uma matriz tridimensional:"
   ]
  },
  {
   "cell_type": "code",
   "execution_count": null,
   "metadata": {},
   "outputs": [],
   "source": [
    "# Eixos: (Estações, Dias, Rios)\n",
    "# Dias: 10 primeiros dias do mês\n",
    "np.random.seed(42)\n",
    "od = np.random.uniform(4.5, 9.0, size=(3, 10, 5))  # OD varia entre 4.5 e 9.0 mg/L"
   ]
  },
  {
   "cell_type": "markdown",
   "metadata": {},
   "source": [
    "Desafios:\n",
    "1. Calcule o **valor médio de OD** em cada rio, por estação.\n",
    "1. Encontre **o dia com menor nível de OD em cada rio**, por estação.\n",
    "1. Verifique **quais rios** apresentaram OD abaixo de **5 mg/L**, considerado nível de risco.\n",
    "1. Use `np.where()` para identificar **os índices [estação, dia, rio]** onde isso aconteceu.\n",
    "1. Gere um array com os dados **normalizados** entre 0 e 1."
   ]
  },
  {
   "cell_type": "code",
   "execution_count": null,
   "metadata": {},
   "outputs": [],
   "source": [
    "# Sua solução aqui"
   ]
  },
  {
   "cell_type": "markdown",
   "metadata": {},
   "source": [
    "## Conclusão\n",
    "\n",
    "Hoje exploramos o **NumPy**. Aprendemos como utilizá-lo para lidar com arrays e realizar operações numéricas de forma eficiente. Na próxima aula, vamos iniciar com **Pandas**, uma biblioteca para análise e manipulação de dados em tabelas.\n",
    "\n",
    "---\n",
    "\n",
    "## Sugestão de Leitura Complementar\n",
    "\n",
    "- [Documentação oficial do Python](https://docs.python.org/3/)\n",
    "- [Python Tutor - visualize seu código passo a passo](https://pythontutor.com/)\n",
    "- [NumPy](https://numpy.org/doc/stable/index.html)\n",
    "- [NumPy Tutorial](https://www.w3schools.com/python/numpy/default.asp)\n",
    "- [Pandas](https://pandas.pydata.org/)\n",
    "- [Matplotlib](https://matplotlib.org/)\n",
    "\n",
    "---\n",
    "\n",
    "### Salve este notebook!  \n",
    "Lembre-se de salvar seu progresso (Ctrl+S ou `File > Save Notebook`) para poder retomar depois."
   ]
  }
 ],
 "metadata": {
  "language_info": {
   "codemirror_mode": {
    "name": "ipython",
    "version": 3
   },
   "file_extension": ".py",
   "mimetype": "text/x-python",
   "name": "python",
   "nbconvert_exporter": "python",
   "pygments_lexer": "ipython3",
   "version": 3
  }
 },
 "nbformat": 4,
 "nbformat_minor": 2
}
