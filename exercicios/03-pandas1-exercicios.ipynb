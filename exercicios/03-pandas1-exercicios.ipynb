{
 "cells": [
  {
   "cell_type": "markdown",
   "id": "c580144b",
   "metadata": {},
   "source": [
    "# Exercícios de Pandas\n",
    "\n",
    "Agora que já estudamos o **Pandas**, é hora de praticar!\n",
    "\n",
    "Começaremos com tarefas simples e, em seguida, avançaremos para questões mais desafiadoras.\n",
    "\n",
    "Primeiro importe _pandas_ e _numpy_."
   ]
  },
  {
   "cell_type": "code",
   "execution_count": null,
   "id": "01e63e36",
   "metadata": {},
   "outputs": [],
   "source": [
    "# código aqui"
   ]
  },
  {
   "cell_type": "markdown",
   "id": "8fe86633",
   "metadata": {},
   "source": [
    "#### Pandas Series e Index\n",
    "\n",
    "Crie uma *Series* chamada populacao com os seguintes dados:"
   ]
  },
  {
   "cell_type": "code",
   "execution_count": null,
   "id": "0cb2041e",
   "metadata": {},
   "outputs": [],
   "source": [
    "populacao = pd.Series(\n",
    "    [12.3, 8.9, 15.6, 3.4],\n",
    "    index=['Cidade A', 'Cidade B', 'Cidade C', 'Cidade D']\n",
    ")"
   ]
  },
  {
   "cell_type": "markdown",
   "id": "0648e402",
   "metadata": {},
   "source": [
    "Atividades:\n",
    "1. Mostre os **valores** e os **índices** separadamente.\n",
    "2. Acesse o valor da **Cidade B** usando o índice.\n",
    "3. Multiplique todos os valores por `1000` (habitantes em milhares)."
   ]
  },
  {
   "cell_type": "code",
   "execution_count": null,
   "id": "b0eeea1c",
   "metadata": {},
   "outputs": [],
   "source": [
    "# codigo aqui"
   ]
  },
  {
   "cell_type": "markdown",
   "id": "e18542b4",
   "metadata": {},
   "source": [
    "### Pandas DataFrame\n",
    "\n",
    "Construa um *DataFrame* com informações sobre cidades:"
   ]
  },
  {
   "cell_type": "code",
   "execution_count": null,
   "id": "99c11f9c",
   "metadata": {},
   "outputs": [],
   "source": [
    "dados = {\n",
    "    'cidade': ['Cidade A', 'Cidade B', 'Cidade C', 'Cidade D'],\n",
    "    'estado': ['SP', 'RJ', 'MG', 'RS'],\n",
    "    'populacao_mil': [12.3, 8.9, 15.6, 3.4],\n",
    "    'area_km2': [450, 300, 1200, 500]\n",
    "}\n",
    "\n",
    "cidades = pd.DataFrame(dados)"
   ]
  },
  {
   "cell_type": "markdown",
   "id": "d9ad467a",
   "metadata": {},
   "source": [
    "Atividades:\n",
    "1. Exiba as **5 primeiras linhas** (`head()`).\n",
    "2. Mostre apenas as colunas `cidade` e `populacao_mil`.\n",
    "3. Calcule a **densidade populacional** (`populacao_mil / area_km2`)."
   ]
  },
  {
   "cell_type": "code",
   "execution_count": null,
   "id": "fdaffa5c",
   "metadata": {},
   "outputs": [],
   "source": [
    "# codigo aqui"
   ]
  },
  {
   "cell_type": "markdown",
   "id": "f58a1a1d",
   "metadata": {},
   "source": [
    "### Ufuncs e alinhamento de índices\n",
    "\n",
    "Crie duas _Series_:"
   ]
  },
  {
   "cell_type": "code",
   "execution_count": null,
   "id": "732f88a6",
   "metadata": {},
   "outputs": [],
   "source": [
    "s1 = pd.Series([2, 4, 6], index=['a', 'b', 'c'])\n",
    "s2 = pd.Series([1, 3, 5], index=['b', 'c', 'd'])"
   ]
  },
  {
   "cell_type": "markdown",
   "id": "9d7532d8",
   "metadata": {},
   "source": [
    "Atividades:\n",
    "1. Some `s1 + s2`. O que acontece com os índices diferentes?\n",
    "2. Use `np.square(s1)` para aplicar uma ufunc do NumPy."
   ]
  },
  {
   "cell_type": "code",
   "execution_count": null,
   "id": "5609e782",
   "metadata": {},
   "outputs": [],
   "source": [
    "# codigo aqui"
   ]
  },
  {
   "cell_type": "markdown",
   "id": "b471fff3",
   "metadata": {},
   "source": [
    "### Funções principais\n",
    "\n",
    "Use o _DataFrame_ cidades e aplique:\n",
    "1. info()\n",
    "2. describe()\n",
    "3. tail(2)"
   ]
  },
  {
   "cell_type": "code",
   "execution_count": null,
   "id": "970e5942",
   "metadata": {},
   "outputs": [],
   "source": [
    "# codigo aqui"
   ]
  },
  {
   "cell_type": "markdown",
   "id": "3c30eefc",
   "metadata": {},
   "source": [
    "Pergunta: Qual cidade tem a **maior área**?"
   ]
  },
  {
   "cell_type": "code",
   "execution_count": null,
   "id": "61f45be6",
   "metadata": {},
   "outputs": [],
   "source": [
    "# codigo aqui"
   ]
  },
  {
   "cell_type": "markdown",
   "id": "7bc64bb0",
   "metadata": {},
   "source": [
    "### Manipulação de valores ausentes\n",
    "\n",
    "Adicione valores ausentes ao DataFrame:"
   ]
  },
  {
   "cell_type": "code",
   "execution_count": null,
   "id": "2dce058e",
   "metadata": {},
   "outputs": [],
   "source": [
    "cidades.loc[2, 'populacao_mil'] = np.nan\n",
    "cidades.loc[3, 'estado'] = np.nan"
   ]
  },
  {
   "cell_type": "markdown",
   "id": "ba493976",
   "metadata": {},
   "source": [
    "Atividades\n",
    "1. Detecte os valores nulos com isnull().\n",
    "2. Substitua os valores ausentes de população pela média.\n",
    "3. Remova as linhas que têm estado nulo."
   ]
  },
  {
   "cell_type": "code",
   "execution_count": null,
   "id": "9241781f",
   "metadata": {},
   "outputs": [],
   "source": [
    "# codigo aqui"
   ]
  },
  {
   "cell_type": "markdown",
   "id": "77c520ed",
   "metadata": {},
   "source": [
    "### Remover duplicatas\n",
    "\n",
    "Adicione uma linha duplicada:"
   ]
  },
  {
   "cell_type": "code",
   "execution_count": null,
   "id": "6fd3a3df",
   "metadata": {},
   "outputs": [],
   "source": [
    "cidades = pd.concat([cidades, cidades.iloc[[0]]], ignore_index=True)"
   ]
  },
  {
   "cell_type": "markdown",
   "id": "ac9341f5",
   "metadata": {},
   "source": [
    "Atividades:\n",
    "1. Verifique se há duplicatas.\n",
    "2. Remova as duplicatas."
   ]
  },
  {
   "cell_type": "code",
   "execution_count": null,
   "id": "cc87b0ab",
   "metadata": {},
   "outputs": [],
   "source": [
    "# codigo aqui"
   ]
  },
  {
   "cell_type": "markdown",
   "id": "658f4be0",
   "metadata": {},
   "source": [
    "### Índices Hierárquicos\n",
    "\n",
    "Construa um DataFrame com índices hierárquicos:"
   ]
  },
  {
   "cell_type": "code",
   "execution_count": null,
   "id": "421018ac",
   "metadata": {},
   "outputs": [],
   "source": [
    "index = pd.MultiIndex.from_product(\n",
    "    [['2023', '2024'], ['Cidade A', 'Cidade B']],\n",
    "    names=['Ano', 'Cidade']\n",
    ")\n",
    "\n",
    "dados = pd.DataFrame(\n",
    "    np.random.randint(100, 500, (4, 2)),\n",
    "    index=index,\n",
    "    columns=['População', 'Área']\n",
    ")"
   ]
  },
  {
   "cell_type": "markdown",
   "id": "ba9aa691",
   "metadata": {},
   "source": [
    "Atividades:\n",
    "1. Acesse os dados da Cidade A em 2024.\n",
    "2. Transforme o DataFrame com .unstack().\n",
    "3. Retorne ao formato original com .stack()."
   ]
  },
  {
   "cell_type": "code",
   "execution_count": null,
   "id": "ccddd76a",
   "metadata": {},
   "outputs": [],
   "source": [
    "# codigo aqui"
   ]
  },
  {
   "cell_type": "markdown",
   "id": "5edd5f07",
   "metadata": {},
   "source": [
    "### Desafio"
   ]
  },
  {
   "cell_type": "code",
   "execution_count": null,
   "id": "2b05c5cb",
   "metadata": {},
   "outputs": [],
   "source": [
    "# Criando dados fictícios de usinas renováveis\n",
    "dados_usinas = {\n",
    "    \"usina\": [\"Solar Norte\", \"Solar Sul\", \"Eolica Litoral\", \"Eolica Interior\", \"Solar Nordeste\", \"Eolica Serra\"],\n",
    "    \"estado\": [\"AM\", \"RS\", \"CE\", \"MG\", \"PE\", \"BA\"],\n",
    "    \"tipo\": [\"Solar\", \"Solar\", \"Eólica\", \"Eólica\", \"Solar\", \"Eólica\"],\n",
    "    \"capacidade_MW\": [120, 80, 200, 150, np.nan, 300],\n",
    "    \"ano_instalacao\": [2015, 2018, 2012, 2019, 2020, np.nan],\n",
    "}\n",
    "usinas = pd.DataFrame(dados_usinas)\n",
    "usinas"
   ]
  },
  {
   "cell_type": "markdown",
   "id": "928aac84",
   "metadata": {},
   "source": [
    "Atividades:\n",
    "1. Series e Index\n",
    "    - Crie uma Series apenas com as capacidades instaladas (`capacidade_MW`).\n",
    "    - Defina o índice como o nome das usinas.\n",
    "2. Seleção de Dados\n",
    "    - Selecione apenas as usinas do tipo **Solar**.\n",
    "    - Selecione a linha referente à \"Eolica Serra\".\n",
    "3. Ufuncs e Alinhamento de Índices\n",
    "    - Crie duas Series fictícias:\n",
    "        - `custo_instalacao` (em milhões R$)\n",
    "        - `capacidade_MW`\n",
    "    - Depois calcule o **custo por MW** (`custo_instalacao / capacidade_MW`) e analise os índices alinhados.\n",
    "4. Funções Principais\n",
    "    - Use `head()`, `tail()`, `info()` e `describe()` no DataFrame `usinas`.\n",
    "    - Qual é a usina com **maior capacidade instalada**?\n",
    "5. Valores Ausentes - Deteccao\n",
    "    - Identifique em quais colunas há valores nulos (`.isnull().any()`).\n",
    "    - Conte quantos valores nulos há em cada coluna (`.isnull().sum()`).\n",
    "6. Valores Ausentes - Substituicao e Remocao\n",
    "    - Substitua o valor nulo de `capacidade_MW` pela média da coluna.\n",
    "    - Remova as linhas que têm `ano_instalacao` nulo.\n",
    "7. Duplicatas\n",
    "    - Duplique a linha da \"Solar Norte\".\n",
    "    - Detecte duplicatas com `.duplicated()`.\n",
    "    - Remova duplicatas com `.drop_duplicates()`.\n",
    "8. Índices Hierárquicos – Construção\n",
    "    - Crie um MultiIndex combinando:\n",
    "        - Anos `[2021, 2022, 2023]`\n",
    "        - Tipos de usina `['Solar', 'Eólica']`\n",
    "    - E associe a cada combinação uma geração de energia simulada (em GWh).\n",
    "9. Índices Hierárquicos – Seleção\n",
    "    - Acesse os dados de geração para **Eólica em 2022**.\n",
    "    - Acesse apenas a coluna de geração GWh.\n",
    "10. Stack e Unstack\n",
    "    - Transforme o DataFrame com MultiIndex em formato wide com `.unstack()`.\n",
    "    - Depois volte ao formato original com `.stack()`."
   ]
  },
  {
   "cell_type": "code",
   "execution_count": null,
   "id": "b04740f7",
   "metadata": {},
   "outputs": [],
   "source": []
  }
 ],
 "metadata": {
  "kernelspec": {
   "display_name": "venv",
   "language": "python",
   "name": "python3"
  },
  "language_info": {
   "name": "python",
   "version": "3.12.8"
  }
 },
 "nbformat": 4,
 "nbformat_minor": 5
}
