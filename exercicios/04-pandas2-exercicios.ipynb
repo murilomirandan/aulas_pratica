{
 "cells": [
  {
   "cell_type": "markdown",
   "id": "0651b3d7",
   "metadata": {},
   "source": [
    "# Exercício de Prática – Introdução ao Pandas (Parte II)\n",
    "\n",
    "Você é um cientista de dados ambientais e recebeu um conjunto de dados sobre **qualidade da água em diferentes cidades do Brasil**. O arquivo `agua.csv` contém as seguintes colunas:\n",
    "\n",
    "* `estado` → Estado norte-americano\n",
    "* `ano` → Ano da coleta\n",
    "* `pH` → pH médio da água\n",
    "* `oxigenio` → Concentração de oxigênio dissolvido (mg/L)\n",
    "* `poluente` → Tipo de poluente principal (`Metais`, `Nutrientes`, `Orgânicos`)\n",
    "* `nivel_poluicao` → Classificação da poluição (`Baixo`, `Médio`, `Alto`)\n",
    "\n",
    "---\n",
    "\n",
    "### **Tarefas**\n",
    "\n",
    "1. **Leitura de dados**\n",
    "\n",
    "   * Leia o arquivo `agua.csv` em um DataFrame chamado `df`.\n",
    "   * Exiba as **5 primeiras linhas** e use `.info()` para verificar os tipos de dados.\n"
   ]
  },
  {
   "cell_type": "code",
   "execution_count": null,
   "id": "18c85f98",
   "metadata": {},
   "outputs": [],
   "source": []
  },
  {
   "cell_type": "markdown",
   "id": "e9b2a009",
   "metadata": {},
   "source": [
    "2. **Revisão: Indexação e Seleção**\n",
    "\n",
    "   * Selecione apenas as colunas `estado`, `ano` e `pH`.\n",
    "   * Filtre os dados do ano **2015** com `nivel_poluicao == 'Alto'`."
   ]
  },
  {
   "cell_type": "code",
   "execution_count": null,
   "id": "b8f943ac",
   "metadata": {},
   "outputs": [],
   "source": []
  },
  {
   "cell_type": "markdown",
   "id": "0ccac2a6",
   "metadata": {},
   "source": [
    "3. **Revisão: Valores Ausentes**\n",
    "\n",
    "   * Descubra se existem valores ausentes em alguma coluna (`isnull()`).\n",
    "   * Preencha os valores ausentes de `oxigenio` com a **média** da coluna."
   ]
  },
  {
   "cell_type": "code",
   "execution_count": null,
   "id": "b93405cf",
   "metadata": {},
   "outputs": [],
   "source": []
  },
  {
   "cell_type": "markdown",
   "id": "df6dfca5",
   "metadata": {},
   "source": [
    "4. **Revisão: Duplicados**\n",
    "\n",
    "   * Verifique se existem linhas duplicadas (`duplicated()`).\n",
    "   * Se sim, remova os duplicados e mostre o novo tamanho do DataFrame."
   ]
  },
  {
   "cell_type": "code",
   "execution_count": null,
   "id": "67430dcc",
   "metadata": {},
   "outputs": [],
   "source": []
  },
  {
   "cell_type": "markdown",
   "id": "8564a137",
   "metadata": {},
   "source": [
    "5. **Concatenação e Merge**\n",
    "\n",
    "   * Crie um DataFrame `estados_info` com as colunas `estado`, `regiao`, `area` e `habitantes`.\n",
    "\n",
    "| Estado              | Região       | Área (km²) | Habitantes (Censo 2022) |\n",
    "| ------------------- | ------------ | ---------: | ----------------------: |\n",
    "| Acre                | Norte        |    164 123 |                 830 018 |\n",
    "| Alagoas             | Nordeste     |     27 778 |               3 127 683 |\n",
    "| Amapá               | Norte        |    142 828 |                 733 759 |\n",
    "| Amazonas            | Norte        |  1 559 159 |               3 941 613 |\n",
    "| Bahia               | Nordeste     |    564 733 |              14 136 417 |\n",
    "| Ceará               | Nordeste     |    148 894 |               8 791 688 |\n",
    "| Distrito Federal    | Centro-Oeste |      5 802 |               2 817 381 |\n",
    "| Espírito Santo      | Sudeste      |     46 077 |               3 833 712 |\n",
    "| Goiás               | Centro-Oeste |    340 106 |               7 056 495 |\n",
    "| Maranhão            | Nordeste     |    331 936 |               6 775 152 |\n",
    "| Mato Grosso         | Centro-Oeste |    903 357 |               3 658 649 |\n",
    "| Mato Grosso do Sul  | Centro-Oeste |    357 145 |               2 756 700 |\n",
    "| Minas Gerais        | Sudeste      |    586 528 |              20 538 718 |\n",
    "| Pará                | Norte        |  1 247 689 |               8 116 132 |\n",
    "| Paraíba             | Nordeste     |     56 467 |               3 974 495 |\n",
    "| Paraná              | Sul          |    199 315 |              11 444 380 |\n",
    "| Pernambuco          | Nordeste     |     98 312 |               9 058 931 |\n",
    "| Piauí               | Nordeste     |    251 529 |               3 271 199 |\n",
    "| Rio de Janeiro      | Sudeste      |     43 696 |              16 054 524 |\n",
    "| Rio Grande do Norte | Nordeste     |     52 811 |               3 302 729 |\n",
    "| Rio Grande do Sul   | Sul          |    281 748 |              10 880 506 |\n",
    "| Rondônia            | Norte        |    237 576 |               1 581 196 |\n",
    "| Roraima             | Norte        |    224 300 |                 636 303 |\n",
    "| Santa Catarina      | Sul          |     95 730 |               7 610 361 |\n",
    "| São Paulo           | Sudeste      |    248 209 |              44 420 459 |\n",
    "| Sergipe             | Nordeste     |     21 938 |               2 211 868 |\n",
    "| Tocantins           | Norte        |    277 720 |               1 511 460 |\n",
    "\n",
    "   * Faça um `merge()` entre `df` e `estados_info`."
   ]
  },
  {
   "cell_type": "code",
   "execution_count": null,
   "id": "a13a0e93",
   "metadata": {},
   "outputs": [],
   "source": []
  },
  {
   "cell_type": "markdown",
   "id": "abaf9c4d",
   "metadata": {},
   "source": [
    "6. **GroupBy e Agregação**\n",
    "\n",
    "   * Agrupe os dados por `regiao` e calcule o **pH médio** e o **oxigênio médio** de cada região.\n",
    "   * Descubra qual região teve o **maior nível médio de oxigênio**."
   ]
  },
  {
   "cell_type": "code",
   "execution_count": null,
   "id": "e4fd61ce",
   "metadata": {},
   "outputs": [],
   "source": []
  },
  {
   "cell_type": "markdown",
   "id": "3cb76af3",
   "metadata": {},
   "source": [
    "7. **Transformação e Filtragem**\n",
    "\n",
    "   * Use `.transform()` para normalizar o `oxigenio` de cada região (dividindo pela média regional).\n",
    "   * Use `.filter()` para manter apenas estados com média de pH **maior que 7.5**."
   ]
  },
  {
   "cell_type": "code",
   "execution_count": null,
   "id": "02f25de8",
   "metadata": {},
   "outputs": [],
   "source": []
  },
  {
   "cell_type": "markdown",
   "id": "f76891e4",
   "metadata": {},
   "source": [
    "8. **Pivot e Tabelas Dinâmicas**\n",
    "\n",
    "   * Crie uma tabela dinâmica (`pivot_table`) mostrando a média de `oxigenio` para cada `estado` em cada `ano`.\n",
    "   * Reorganize os dados com `.stack()` e depois volte ao formato original com `.unstack()`."
   ]
  },
  {
   "cell_type": "code",
   "execution_count": null,
   "id": "95098a0e",
   "metadata": {},
   "outputs": [],
   "source": []
  },
  {
   "cell_type": "markdown",
   "id": "1003d814",
   "metadata": {},
   "source": [
    "9. **Reorganização Avançada**\n",
    "\n",
    "   * Transforme o DataFrame para formato **long** usando `.melt()`. Use `estado` e `ano` como identificadores, e `pH` e `oxigenio` como valores.\n",
    "   * Converta a coluna `nivel_poluicao` em variáveis dummies com `pd.get_dummies()`.\n",
    "   * Depois, reconverta para a forma categórica original com `from_dummies()`."
   ]
  },
  {
   "cell_type": "code",
   "execution_count": null,
   "id": "e4d86611",
   "metadata": {},
   "outputs": [],
   "source": []
  },
  {
   "cell_type": "markdown",
   "id": "4cecf00b",
   "metadata": {},
   "source": [
    "10. **Crosstab, Cut e Factorize**\n",
    "\n",
    "* Use `pd.crosstab()` para contar quantas ocorrências de cada `nivel_poluicao` existem em cada `regiao`.\n",
    "* Use `pd.cut()` para classificar o `oxigenio` em 3 categorias: **baixo**, **médio** e **alto**.\n",
    "* Use `pd.factorize()` para transformar a coluna `poluente` em códigos numéricos."
   ]
  },
  {
   "cell_type": "code",
   "execution_count": null,
   "id": "8b466aaf",
   "metadata": {},
   "outputs": [],
   "source": []
  },
  {
   "cell_type": "markdown",
   "id": "2f7ee9aa",
   "metadata": {},
   "source": [
    "11. **Salvar DataFrame(s)**\n",
    "\n",
    "* Use `.to_csv()` para salvar DataFrame no formato csv."
   ]
  },
  {
   "cell_type": "code",
   "execution_count": null,
   "id": "fe4a9a53",
   "metadata": {},
   "outputs": [],
   "source": []
  }
 ],
 "metadata": {
  "kernelspec": {
   "display_name": "base",
   "language": "python",
   "name": "python3"
  },
  "language_info": {
   "codemirror_mode": {
    "name": "ipython",
    "version": 3
   },
   "file_extension": ".py",
   "mimetype": "text/x-python",
   "name": "python",
   "nbconvert_exporter": "python",
   "pygments_lexer": "ipython3",
   "version": "3.12.7"
  }
 },
 "nbformat": 4,
 "nbformat_minor": 5
}
