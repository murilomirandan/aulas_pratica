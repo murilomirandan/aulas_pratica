{
 "cells": [
  {
   "cell_type": "code",
   "execution_count": null,
   "metadata": {},
   "outputs": [],
   "source": []
  },
  {
   "cell_type": "markdown",
   "metadata": {},
   "source": [
    " **1. Qual é o resultado de 7 elevado à potência 4?**"
   ]
  },
  {
   "cell_type": "code",
   "execution_count": 1,
   "metadata": {},
   "outputs": [
    {
     "data": {
      "text/plain": [
       "2401"
      ]
     },
     "execution_count": 1,
     "metadata": {},
     "output_type": "execute_result"
    }
   ],
   "source": [
    "7 ** 4"
   ]
  },
  {
   "cell_type": "markdown",
   "metadata": {},
   "source": [
    "  **2. Separe esta string em uma lista:**\n",
    "\n",
    "      s = \"Olá, Sam! Tudo bem?\"\n",
    "\n",
    "  Resultado esperado: ['Olá,', 'Sam!', 'Tudo', 'bem?']"
   ]
  },
  {
   "cell_type": "code",
   "execution_count": 2,
   "metadata": {},
   "outputs": [
    {
     "data": {
      "text/plain": [
       "['Olá,', 'Sam!', 'Tudo', 'bem?']"
      ]
     },
     "execution_count": 2,
     "metadata": {},
     "output_type": "execute_result"
    }
   ],
   "source": [
    "s = \"Olá, Sam! Tudo bem?\"\n",
    "s.split()"
   ]
  },
  {
   "cell_type": "markdown",
   "metadata": {},
   "source": [
    " **3. Dadas as variáveis:**\n",
    "\n",
    " planeta = \"Terra\"\n",
    "\n",
    " diametro = 12742\n",
    "\n",
    " Use f-string para imprimir a frase."
   ]
  },
  {
   "cell_type": "code",
   "execution_count": 3,
   "metadata": {},
   "outputs": [
    {
     "name": "stdout",
     "output_type": "stream",
     "text": [
      "O diâmetro da Terra é 12742 quilômetros.\n"
     ]
    }
   ],
   "source": [
    "planeta = \"Terra\"\n",
    "diametro = 12742\n",
    "print(f\"O diâmetro da {planeta} é {diametro} quilômetros.\")"
   ]
  },
  {
   "cell_type": "markdown",
   "metadata": {},
   "source": [
    "  **4. Pegue a palavra \"Olá\" da lista aninhada.**"
   ]
  },
  {
   "cell_type": "code",
   "execution_count": 4,
   "metadata": {},
   "outputs": [
    {
     "data": {
      "text/plain": [
       "'Olá'"
      ]
     },
     "execution_count": 4,
     "metadata": {},
     "output_type": "execute_result"
    }
   ],
   "source": [
    "lst = [1, 2, [3, 4], [5, [100, 200, ['Olá']], 23, 11], 1, 7]\n",
    "lst[3][1][2][0]"
   ]
  },
  {
   "cell_type": "markdown",
   "metadata": {},
   "source": [
    "  **5. Pegue a palavra \"Olá\" do dicionário aninhado.**"
   ]
  },
  {
   "cell_type": "code",
   "execution_count": 5,
   "metadata": {},
   "outputs": [
    {
     "data": {
      "text/plain": [
       "'Olá'"
      ]
     },
     "execution_count": 5,
     "metadata": {},
     "output_type": "execute_result"
    }
   ],
   "source": [
    "d = {'k1': [1, 2, 3, {'tricky': ['oh', 'man', 'inception', {'target': [1, 2, 3, 'Olá']}]}]}\n",
    "d['k1'][3]['tricky'][3]['target'][3]"
   ]
  },
  {
   "cell_type": "markdown",
   "metadata": {},
   "source": [
    "  **6. Qual é a principal diferença entre lista e tupla?**"
   ]
  },
  {
   "cell_type": "code",
   "execution_count": null,
   "metadata": {},
   "outputs": [],
   "source": [
    "# Listas são mutáveis (podem ser alteradas), enquanto tuplas são imutáveis."
   ]
  },
  {
   "cell_type": "markdown",
   "metadata": {},
   "source": [
    "  **7. Função para pegar domínio de e-mail.**"
   ]
  },
  {
   "cell_type": "code",
   "execution_count": 6,
   "metadata": {},
   "outputs": [
    {
     "data": {
      "text/plain": [
       "'domain.com'"
      ]
     },
     "execution_count": 6,
     "metadata": {},
     "output_type": "execute_result"
    }
   ],
   "source": [
    "def pegar_dominio(email):\n",
    "    return email.split('@')[1]\n",
    "\n",
    "pegar_dominio(\"user@domain.com\")"
   ]
  },
  {
   "cell_type": "markdown",
   "metadata": {},
   "source": [
    " **8. Função que retorna True se \"cachorro\" estiver em uma string.**"
   ]
  },
  {
   "cell_type": "code",
   "execution_count": 7,
   "metadata": {},
   "outputs": [
    {
     "data": {
      "text/plain": [
       "True"
      ]
     },
     "execution_count": 7,
     "metadata": {},
     "output_type": "execute_result"
    }
   ],
   "source": [
    "def tem_cachorro(texto):\n",
    "    return 'cachorro' in texto.lower()\n",
    "\n",
    "tem_cachorro(\"Eu tenho um cachorro fofo.\")"
   ]
  },
  {
   "cell_type": "markdown",
   "metadata": {},
   "source": [
    " **9. Função que conta quantas vezes \"cachorro\" aparece em uma string.**"
   ]
  },
  {
   "cell_type": "code",
   "execution_count": 8,
   "metadata": {},
   "outputs": [
    {
     "data": {
      "text/plain": [
       "3"
      ]
     },
     "execution_count": 8,
     "metadata": {},
     "output_type": "execute_result"
    }
   ],
   "source": [
    "def conta_cachorro(texto):\n",
    "    return texto.lower().count(\"cachorro\")\n",
    "\n",
    "conta_cachorro(\"Cachorro é legal. Eu tenho um cachorro. Cachorro!\")"
   ]
  },
  {
   "cell_type": "markdown",
   "metadata": {},
   "source": [
    "  **10. Use lambda e filter() para filtrar palavras que começam com 's'.**"
   ]
  },
  {
   "cell_type": "code",
   "execution_count": 9,
   "metadata": {},
   "outputs": [
    {
     "data": {
      "text/plain": [
       "['sopa', 'salada']"
      ]
     },
     "execution_count": 9,
     "metadata": {},
     "output_type": "execute_result"
    }
   ],
   "source": [
    "seq = ['sopa','cachorro','salada','gato', 'ótimo']\n",
    "list(filter(lambda palavra: palavra.startswith('s'), seq))"
   ]
  },
  {
   "cell_type": "markdown",
   "metadata": {},
   "source": [
    "  ### Problema Final\n",
    "\n",
    "  Função do radar de velocidade."
   ]
  },
  {
   "cell_type": "code",
   "execution_count": 10,
   "metadata": {},
   "outputs": [
    {
     "name": "stdout",
     "output_type": "stream",
     "text": [
      "Multa pequena\n",
      "Multa grande\n"
     ]
    }
   ],
   "source": [
    "def radar_velocidade(velocidade, aniversario):\n",
    "    limite_extra = 5 if aniversario else 0\n",
    "    if velocidade <= 60 + limite_extra:\n",
    "        return \"Sem multa\"\n",
    "    elif velocidade <= 80 + limite_extra:\n",
    "        return \"Multa pequena\"\n",
    "    else:\n",
    "        return \"Multa grande\"\n",
    "\n",
    "# Testes\n",
    "print(radar_velocidade(81, True))   # esperado: \"Multa pequena\"\n",
    "print(radar_velocidade(81, False))  # esperado: \"Multa grande\""
   ]
  }
 ],
 "metadata": {
  "kernelspec": {
   "display_name": "base",
   "language": "python",
   "name": "python3"
  },
  "language_info": {
   "codemirror_mode": {
    "name": "ipython",
    "version": 3
   },
   "file_extension": ".py",
   "mimetype": "text/x-python",
   "name": "python",
   "nbconvert_exporter": "python",
   "pygments_lexer": "ipython3",
   "version": "3.12.7"
  }
 },
 "nbformat": 4,
 "nbformat_minor": 2
}
