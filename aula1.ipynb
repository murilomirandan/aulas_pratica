{
 "cells": [
  {
   "cell_type": "markdown",
   "id": "fa6b8ec2",
   "metadata": {},
   "source": [
    "# Projeto\n",
    "## Subprojeto\n",
    "\n",
    "Introducao sobre Jupyter Notebook"
   ]
  },
  {
   "cell_type": "code",
   "execution_count": 1,
   "id": "a53564ca",
   "metadata": {},
   "outputs": [],
   "source": [
    "from math import sqrt "
   ]
  },
  {
   "cell_type": "code",
   "execution_count": 2,
   "id": "ecdfe027",
   "metadata": {},
   "outputs": [
    {
     "data": {
      "text/plain": [
       "4.0"
      ]
     },
     "execution_count": 2,
     "metadata": {},
     "output_type": "execute_result"
    }
   ],
   "source": [
    "sqrt(16)"
   ]
  },
  {
   "cell_type": "code",
   "execution_count": 3,
   "id": "6b42d76b",
   "metadata": {},
   "outputs": [],
   "source": [
    "lista = [1, 2, 3]"
   ]
  },
  {
   "cell_type": "code",
   "execution_count": 6,
   "id": "703387cf",
   "metadata": {},
   "outputs": [],
   "source": [
    "lista.append(3)"
   ]
  },
  {
   "cell_type": "code",
   "execution_count": 7,
   "id": "70205814",
   "metadata": {},
   "outputs": [
    {
     "data": {
      "text/plain": [
       "[1, 2, 3, 4, 3]"
      ]
     },
     "execution_count": 7,
     "metadata": {},
     "output_type": "execute_result"
    }
   ],
   "source": [
    "lista"
   ]
  },
  {
   "cell_type": "code",
   "execution_count": 9,
   "id": "df2abc7d",
   "metadata": {},
   "outputs": [
    {
     "name": "stdout",
     "output_type": "stream",
     "text": [
      "\u001b[31mSignature:\u001b[39m print(*args, sep=\u001b[33m' '\u001b[39m, end=\u001b[33m'\\n'\u001b[39m, file=\u001b[38;5;28;01mNone\u001b[39;00m, flush=\u001b[38;5;28;01mFalse\u001b[39;00m)\n",
      "\u001b[31mDocstring:\u001b[39m\n",
      "Prints the values to a stream, or to sys.stdout by default.\n",
      "\n",
      "sep\n",
      "  string inserted between values, default a space.\n",
      "end\n",
      "  string appended after the last value, default a newline.\n",
      "file\n",
      "  a file-like object (stream); defaults to the current sys.stdout.\n",
      "flush\n",
      "  whether to forcibly flush the stream.\n",
      "\u001b[31mType:\u001b[39m      builtin_function_or_method"
     ]
    }
   ],
   "source": [
    "print?"
   ]
  },
  {
   "cell_type": "code",
   "execution_count": 11,
   "id": "10b22024",
   "metadata": {},
   "outputs": [],
   "source": [
    "lista.insert(1, 10)"
   ]
  },
  {
   "cell_type": "code",
   "execution_count": 12,
   "id": "fa0cc4dd",
   "metadata": {},
   "outputs": [
    {
     "data": {
      "text/plain": [
       "[1, 10, 2, 3, 4, 3]"
      ]
     },
     "execution_count": 12,
     "metadata": {},
     "output_type": "execute_result"
    }
   ],
   "source": [
    "lista"
   ]
  },
  {
   "cell_type": "markdown",
   "id": "177c8a9d",
   "metadata": {},
   "source": [
    "# Título\n",
    "## Subtítulo\n",
    "### Subsubtítulo\n",
    "#### Outro\n",
    "##### Outro\n",
    "###### Outro"
   ]
  },
  {
   "cell_type": "markdown",
   "id": "28e5a31c",
   "metadata": {},
   "source": [
    "**negrito**\n",
    "\n",
    "__negrito__\n",
    "\n",
    "*italico*\n",
    "\n",
    "_italico_\n",
    "\n",
    "~~riscado~~"
   ]
  },
  {
   "cell_type": "markdown",
   "id": "ad395678",
   "metadata": {},
   "source": [
    "### Listas\n",
    "\n",
    "- Item 1\n",
    "- Item 2\n",
    "* Item 3\n",
    "    - Subitem\n",
    "\n",
    "\n",
    "Lista ordenada:\n",
    "1. Item 1\n",
    "    - subitem\n",
    "1. Item 2\n"
   ]
  },
  {
   "cell_type": "markdown",
   "id": "fe519113",
   "metadata": {},
   "source": [
    "### Links\n",
    "\n",
    "[Site do Python](https://www.python.org/)"
   ]
  },
  {
   "cell_type": "markdown",
   "id": "6455d9f7",
   "metadata": {},
   "source": [
    "### Imagens\n",
    "![Panda](imagens/numpy-panda.jpeg)"
   ]
  },
  {
   "cell_type": "markdown",
   "id": "4d63d692",
   "metadata": {},
   "source": [
    "<img src=\"imagens/numpy-panda.jpeg\" width=\"150\" height=\"100\">"
   ]
  },
  {
   "cell_type": "markdown",
   "id": "17ce2804",
   "metadata": {},
   "source": [
    "Use o comando `print()` para mostrar alguma coisa na tela."
   ]
  },
  {
   "cell_type": "markdown",
   "id": "52e4ba35",
   "metadata": {},
   "source": [
    "```python\n",
    "for i in 1, 2, 3, 4:\n",
    "    print(i)\n",
    "```\n",
    "\n",
    "\n",
    "```\n",
    "for i in 1, 2, 3, 4:\n",
    "    print(i)\n",
    "```"
   ]
  },
  {
   "cell_type": "markdown",
   "id": "55534bd2",
   "metadata": {},
   "source": [
    "$$N_t = N_0* e^{rt}$$"
   ]
  },
  {
   "cell_type": "markdown",
   "id": "407d85e1",
   "metadata": {},
   "source": [
    "| Coluna 1 | Coluna 2 |\n",
    "| ----: | ----- |\n",
    "| Item 1 | Item 2 |"
   ]
  },
  {
   "cell_type": "markdown",
   "id": "fd7efdb6",
   "metadata": {},
   "source": [
    "> **Nota:** Use o comando print() para mostrar o resultado"
   ]
  },
  {
   "cell_type": "code",
   "execution_count": 15,
   "id": "8d0be411",
   "metadata": {},
   "outputs": [],
   "source": [
    "!mkdir dados"
   ]
  }
 ],
 "metadata": {
  "kernelspec": {
   "display_name": "venv",
   "language": "python",
   "name": "python3"
  },
  "language_info": {
   "codemirror_mode": {
    "name": "ipython",
    "version": 3
   },
   "file_extension": ".py",
   "mimetype": "text/x-python",
   "name": "python",
   "nbconvert_exporter": "python",
   "pygments_lexer": "ipython3",
   "version": "3.12.8"
  }
 },
 "nbformat": 4,
 "nbformat_minor": 5
}
